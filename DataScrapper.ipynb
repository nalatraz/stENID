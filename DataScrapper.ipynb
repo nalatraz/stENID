{
 "cells": [
  {
   "cell_type": "markdown",
   "id": "ba208fa4",
   "metadata": {},
   "source": [
    "## Packages"
   ]
  },
  {
   "cell_type": "code",
   "execution_count": 5,
   "id": "132bee73",
   "metadata": {},
   "outputs": [],
   "source": [
    "from lasair import LasairError, lasair_client as lasair\n",
    "from alerce.core import Alerce\n",
    "import matplotlib.pyplot as plt\n",
    "import sys, time\n",
    "import requests\n",
    "import numpy as np\n",
    "import pandas as pd\n",
    "import math\n",
    "import time\n",
    "\n",
    "import mysql.connector\n",
    "import json\n",
    "from collections import OrderedDict\n",
    "import matplotlib.image as mpimg\n",
    "import os\n",
    "import csv\n",
    "import io as StringIO"
   ]
  },
  {
   "cell_type": "code",
   "execution_count": 6,
   "id": "05327a5c",
   "metadata": {},
   "outputs": [
    {
     "data": {
      "text/html": [
       "<style>\n",
       "table {float:left}\n",
       "</style>\n"
      ],
      "text/plain": [
       "<IPython.core.display.HTML object>"
      ]
     },
     "metadata": {},
     "output_type": "display_data"
    }
   ],
   "source": [
    "%%html\n",
    "<style>\n",
    "table {float:left}\n",
    "</style>"
   ]
  },
  {
   "cell_type": "markdown",
   "id": "fc4d2c97",
   "metadata": {},
   "source": [
    "## Functions"
   ]
  },
  {
   "cell_type": "code",
   "execution_count": 7,
   "id": "5991be0e",
   "metadata": {},
   "outputs": [],
   "source": [
    "from ENID import *"
   ]
  },
  {
   "cell_type": "markdown",
   "id": "c535775f",
   "metadata": {},
   "source": [
    "List of functions that are used to run this notebook. These are custom, tailored for the purpose of searching for object names, retrieving light curves and plotting these in a way that suits our purposes."
   ]
  },
  {
   "cell_type": "code",
   "execution_count": 8,
   "id": "efd494ae",
   "metadata": {},
   "outputs": [
    {
     "name": "stdout",
     "output_type": "stream",
     "text": [
      "tns_marker{\"tns_id\": \"117327\", \"type\": \"bot\", \"name\": \"ENID\"} \n",
      "\n"
     ]
    }
   ],
   "source": [
    "TNS                 = \"sandbox.wis-tns.org\"\n",
    "url_tns_api         = \"https://\" + TNS + \"/api/get\"\n",
    "\n",
    "TNS_BOT_ID          = \"117327\"\n",
    "TNS_BOT_NAME        = \"ENID\"\n",
    "TNS_API_KEY         = \"0edfe1b95fd8f8e22102d531bb786d65fe1ce219\"\n",
    "\n",
    "set_var(url_tns_api, TNS_BOT_ID, TNS_BOT_NAME, TNS_API_KEY)\n",
    "\n",
    "# current working directory\n",
    "cwd                 = os.getcwd()\n",
    "# directory for downloaded files\n",
    "download_dir        = os.path.join(cwd, \"downloaded_files\")\n",
    "\n",
    "# external http errors\n",
    "ext_http_errors     = [403, 500, 503]\n",
    "err_msg             = [\"Forbidden\", \"Internal Server Error: Something is broken\", \"Service Unavailable\"]\n",
    "\n",
    "tns_marker = set_bot_tns_marker()\n",
    "headers = {'User-Agent': tns_marker}\n",
    "print(tns_marker, '\\n')"
   ]
  },
  {
   "cell_type": "markdown",
   "id": "271d09a0",
   "metadata": {},
   "source": [
    "## Alerce Query"
   ]
  },
  {
   "cell_type": "markdown",
   "id": "346b45f9",
   "metadata": {},
   "source": [
    "We use the ALeRCE database to retrieve the ZTF source light curves. It requires installation of the alerce package. We also use the lasair package for some verifications. Initialisation of the two packages follows below."
   ]
  },
  {
   "cell_type": "code",
   "execution_count": 5,
   "id": "0a0437c3",
   "metadata": {},
   "outputs": [
    {
     "name": "stdout",
     "output_type": "stream",
     "text": [
      "{\"token\":\"591d4e074bca6a265191593cf4c0e8609e488e1b\"}\n"
     ]
    }
   ],
   "source": [
    "alerce = Alerce()\n",
    "\n",
    "token = !curl --data \"username=Oliver&password=1234fisk\" https://lasair-iris.roe.ac.uk/api/auth-token/\n",
    "print(token[-1])\n",
    "\n",
    "token = '591d4e074bca6a265191593cf4c0e8609e488e1b'\n",
    "L = lasair(token)"
   ]
  },
  {
   "cell_type": "markdown",
   "id": "097f4527",
   "metadata": {},
   "source": [
    "The filter ID in the ALeRCE database is related to the ZTF observation band on Lasair in the following way :\n",
    "\n",
    "| Filter ID | Observation Band |\n",
    "| :-: | :-: |\n",
    "| 1 | G |\n",
    "| 2 | R |"
   ]
  },
  {
   "cell_type": "markdown",
   "id": "5870b39c",
   "metadata": {},
   "source": [
    "### Initial Query\n",
    "We import the ZTF names of the sources that were identified as blue continuum from the Pessto+ marshall, and run a quick source search routine to determine which ones can be obtained from ALeRCE. As a back-up verification we also take the sources that were not found in the ALeRCE database and compare with Lasair-Iris."
   ]
  },
  {
   "cell_type": "code",
   "execution_count": 6,
   "id": "267450b5",
   "metadata": {
    "scrolled": false
   },
   "outputs": [
    {
     "name": "stdout",
     "output_type": "stream",
     "text": [
      "Number of sources : 55 \n",
      "\n",
      "Found  55 objects\n",
      "Missing  0 objects\n"
     ]
    },
    {
     "data": {
      "text/html": [
       "<div>\n",
       "<style scoped>\n",
       "    .dataframe tbody tr th:only-of-type {\n",
       "        vertical-align: middle;\n",
       "    }\n",
       "\n",
       "    .dataframe tbody tr th {\n",
       "        vertical-align: top;\n",
       "    }\n",
       "\n",
       "    .dataframe thead th {\n",
       "        text-align: right;\n",
       "    }\n",
       "</style>\n",
       "<table border=\"1\" class=\"dataframe\">\n",
       "  <thead>\n",
       "    <tr style=\"text-align: right;\">\n",
       "      <th></th>\n",
       "      <th>oid</th>\n",
       "      <th>ndethist</th>\n",
       "      <th>ncovhist</th>\n",
       "      <th>mjdstarthist</th>\n",
       "      <th>mjdendhist</th>\n",
       "      <th>corrected</th>\n",
       "      <th>stellar</th>\n",
       "      <th>ndet</th>\n",
       "      <th>g_r_max</th>\n",
       "      <th>g_r_max_corr</th>\n",
       "      <th>...</th>\n",
       "      <th>lastmjd</th>\n",
       "      <th>deltajd</th>\n",
       "      <th>meanra</th>\n",
       "      <th>meandec</th>\n",
       "      <th>sigmara</th>\n",
       "      <th>sigmadec</th>\n",
       "      <th>class</th>\n",
       "      <th>classifier</th>\n",
       "      <th>probability</th>\n",
       "      <th>step_id_corr</th>\n",
       "    </tr>\n",
       "  </thead>\n",
       "  <tbody>\n",
       "    <tr>\n",
       "      <th>0</th>\n",
       "      <td>ZTF19abzwbxy</td>\n",
       "      <td>19</td>\n",
       "      <td>590</td>\n",
       "      <td>58747.277303</td>\n",
       "      <td>59354.443738</td>\n",
       "      <td>False</td>\n",
       "      <td>False</td>\n",
       "      <td>16</td>\n",
       "      <td>-0.288043</td>\n",
       "      <td>NaN</td>\n",
       "      <td>...</td>\n",
       "      <td>59354.443738</td>\n",
       "      <td>607.166435</td>\n",
       "      <td>305.860460</td>\n",
       "      <td>6.666890</td>\n",
       "      <td>0.000023</td>\n",
       "      <td>0.000026</td>\n",
       "      <td>None</td>\n",
       "      <td>None</td>\n",
       "      <td>None</td>\n",
       "      <td>correction_0.0.1</td>\n",
       "    </tr>\n",
       "    <tr>\n",
       "      <th>1</th>\n",
       "      <td>ZTF18abtuzsb</td>\n",
       "      <td>65</td>\n",
       "      <td>567</td>\n",
       "      <td>58368.229873</td>\n",
       "      <td>59464.233576</td>\n",
       "      <td>True</td>\n",
       "      <td>True</td>\n",
       "      <td>31</td>\n",
       "      <td>-0.186697</td>\n",
       "      <td>-0.072122</td>\n",
       "      <td>...</td>\n",
       "      <td>59464.233576</td>\n",
       "      <td>1096.003704</td>\n",
       "      <td>291.074024</td>\n",
       "      <td>-19.386080</td>\n",
       "      <td>0.000033</td>\n",
       "      <td>0.000037</td>\n",
       "      <td>None</td>\n",
       "      <td>None</td>\n",
       "      <td>None</td>\n",
       "      <td>correction_1.0.6</td>\n",
       "    </tr>\n",
       "    <tr>\n",
       "      <th>2</th>\n",
       "      <td>ZTF18abklbam</td>\n",
       "      <td>22</td>\n",
       "      <td>59</td>\n",
       "      <td>58331.163206</td>\n",
       "      <td>58475.492616</td>\n",
       "      <td>True</td>\n",
       "      <td>False</td>\n",
       "      <td>10</td>\n",
       "      <td>-0.033588</td>\n",
       "      <td>-0.017496</td>\n",
       "      <td>...</td>\n",
       "      <td>58475.492616</td>\n",
       "      <td>144.329410</td>\n",
       "      <td>217.829611</td>\n",
       "      <td>21.290207</td>\n",
       "      <td>0.000018</td>\n",
       "      <td>0.000017</td>\n",
       "      <td>None</td>\n",
       "      <td>None</td>\n",
       "      <td>None</td>\n",
       "      <td>corr_bulk_0.0.1</td>\n",
       "    </tr>\n",
       "    <tr>\n",
       "      <th>3</th>\n",
       "      <td>ZTF18abmdpwe</td>\n",
       "      <td>98</td>\n",
       "      <td>107</td>\n",
       "      <td>58340.320139</td>\n",
       "      <td>58433.074201</td>\n",
       "      <td>True</td>\n",
       "      <td>False</td>\n",
       "      <td>30</td>\n",
       "      <td>0.017229</td>\n",
       "      <td>0.199031</td>\n",
       "      <td>...</td>\n",
       "      <td>58433.074201</td>\n",
       "      <td>92.753148</td>\n",
       "      <td>275.659068</td>\n",
       "      <td>15.696555</td>\n",
       "      <td>0.000017</td>\n",
       "      <td>0.000022</td>\n",
       "      <td>None</td>\n",
       "      <td>None</td>\n",
       "      <td>None</td>\n",
       "      <td>corr_bulk_0.0.1</td>\n",
       "    </tr>\n",
       "    <tr>\n",
       "      <th>4</th>\n",
       "      <td>ZTF18abqbuaj</td>\n",
       "      <td>36</td>\n",
       "      <td>47</td>\n",
       "      <td>58356.407037</td>\n",
       "      <td>58372.358692</td>\n",
       "      <td>True</td>\n",
       "      <td>False</td>\n",
       "      <td>10</td>\n",
       "      <td>0.076601</td>\n",
       "      <td>0.174314</td>\n",
       "      <td>...</td>\n",
       "      <td>58372.358692</td>\n",
       "      <td>14.962002</td>\n",
       "      <td>20.253625</td>\n",
       "      <td>-13.862928</td>\n",
       "      <td>0.000019</td>\n",
       "      <td>0.000030</td>\n",
       "      <td>None</td>\n",
       "      <td>None</td>\n",
       "      <td>None</td>\n",
       "      <td>corr_bulk_0.0.1</td>\n",
       "    </tr>\n",
       "  </tbody>\n",
       "</table>\n",
       "<p>5 rows × 23 columns</p>\n",
       "</div>"
      ],
      "text/plain": [
       "            oid ndethist ncovhist  mjdstarthist    mjdendhist corrected  \\\n",
       "0  ZTF19abzwbxy       19      590  58747.277303  59354.443738     False   \n",
       "1  ZTF18abtuzsb       65      567  58368.229873  59464.233576      True   \n",
       "2  ZTF18abklbam       22       59  58331.163206  58475.492616      True   \n",
       "3  ZTF18abmdpwe       98      107  58340.320139  58433.074201      True   \n",
       "4  ZTF18abqbuaj       36       47  58356.407037  58372.358692      True   \n",
       "\n",
       "  stellar ndet   g_r_max g_r_max_corr  ...       lastmjd      deltajd  \\\n",
       "0   False   16 -0.288043          NaN  ...  59354.443738   607.166435   \n",
       "1    True   31 -0.186697    -0.072122  ...  59464.233576  1096.003704   \n",
       "2   False   10 -0.033588    -0.017496  ...  58475.492616   144.329410   \n",
       "3   False   30  0.017229     0.199031  ...  58433.074201    92.753148   \n",
       "4   False   10  0.076601     0.174314  ...  58372.358692    14.962002   \n",
       "\n",
       "       meanra    meandec   sigmara  sigmadec  class  classifier  probability  \\\n",
       "0  305.860460   6.666890  0.000023  0.000026   None        None         None   \n",
       "1  291.074024 -19.386080  0.000033  0.000037   None        None         None   \n",
       "2  217.829611  21.290207  0.000018  0.000017   None        None         None   \n",
       "3  275.659068  15.696555  0.000017  0.000022   None        None         None   \n",
       "4   20.253625 -13.862928  0.000019  0.000030   None        None         None   \n",
       "\n",
       "       step_id_corr  \n",
       "0  correction_0.0.1  \n",
       "1  correction_1.0.6  \n",
       "2   corr_bulk_0.0.1  \n",
       "3   corr_bulk_0.0.1  \n",
       "4   corr_bulk_0.0.1  \n",
       "\n",
       "[5 rows x 23 columns]"
      ]
     },
     "execution_count": 6,
     "metadata": {},
     "output_type": "execute_result"
    }
   ],
   "source": [
    "Blu = pd.read_csv('BlueContinuumZTF.csv')\n",
    "ztf_raw = list(Blu['ZTF Name'])\n",
    "ztf_names = [x for x in ztf_raw if type(x) != float]\n",
    "\n",
    "print('Number of sources :', len(ztf_raw), '\\n')\n",
    "alerce_found, alerce_missing = source_search_alerce(ztf_names)\n",
    "\n",
    "print('Found ', alerce_found.shape[0], 'objects')\n",
    "print('Missing ', len(alerce_missing), 'objects')\n",
    "\n",
    "if len(alerce_missing) > 0:\n",
    "    lasair_found, lasair_missing = source_search_lasair(alerce_missing)\n",
    "\n",
    "alerce_found.head()"
   ]
  },
  {
   "cell_type": "code",
   "execution_count": 7,
   "id": "25fad013",
   "metadata": {},
   "outputs": [
    {
     "data": {
      "text/plain": [
       "[{'name': 'SNIa'},\n",
       " {'name': 'SNIbc'},\n",
       " {'name': 'SNII'},\n",
       " {'name': 'SLSN'},\n",
       " {'name': 'QSO'},\n",
       " {'name': 'AGN'},\n",
       " {'name': 'Blazar'},\n",
       " {'name': 'CV/Nova'},\n",
       " {'name': 'YSO'},\n",
       " {'name': 'LPV'},\n",
       " {'name': 'E'},\n",
       " {'name': 'DSCT'},\n",
       " {'name': 'RRL'},\n",
       " {'name': 'CEP'},\n",
       " {'name': 'Periodic-Other'}]"
      ]
     },
     "execution_count": 7,
     "metadata": {},
     "output_type": "execute_result"
    }
   ],
   "source": [
    "alerce.query_classes(\"lc_classifier\", \"hierarchical_random_forest_1.0.0\")"
   ]
  },
  {
   "cell_type": "markdown",
   "id": "49ba3958",
   "metadata": {},
   "source": [
    "### Lightcurve Retrieval"
   ]
  },
  {
   "cell_type": "markdown",
   "id": "107acf61",
   "metadata": {},
   "source": [
    "After having obtained metadata for the sources, we can retrieve the lightcurves and plot these. This is done for all 59 sources in order to verify which ones have enough data points to be used for classification. The sources are observed in two different bands, G and R, which are shown respectively in green and red. Non detections are not plotted, although they are extracted as well as the detections. \n",
    "\n",
    "For several sources, it seems that there are not enough data points for them to be used for classification. Interpolation is not an option due to lack of information about the overal lightcurve trend from the few detections."
   ]
  },
  {
   "cell_type": "code",
   "execution_count": 8,
   "id": "492f999e",
   "metadata": {
    "scrolled": false
   },
   "outputs": [
    {
     "name": "stdout",
     "output_type": "stream",
     "text": [
      "Importing lightcurve and metadata for source  \u001b[1mZTF19abzwbxy\u001b[0m\n"
     ]
    },
    {
     "data": {
      "image/png": "[encoded data removed]",
      "text/plain": [
       "<Figure size 432x288 with 1 Axes>"
      ]
     },
     "metadata": {
      "needs_background": "light"
     },
     "output_type": "display_data"
    },
    {
     "name": "stdout",
     "output_type": "stream",
     "text": [
      "Importing lightcurve and metadata for source  \u001b[1mZTF18abtuzsb\u001b[0m\n"
     ]
    },
    {
     "data": {
      "image/png": "[encoded data removed]",
      "text/plain": [
       "<Figure size 432x288 with 1 Axes>"
      ]
     },
     "metadata": {
      "needs_background": "light"
     },
     "output_type": "display_data"
    },
    {
     "name": "stdout",
     "output_type": "stream",
     "text": [
      "Importing lightcurve and metadata for source  \u001b[1mZTF18abklbam\u001b[0m\n"
     ]
    },
    {
     "data": {
      "image/png": "[encoded data removed]",
      "text/plain": [
       "<Figure size 432x288 with 1 Axes>"
      ]
     },
     "metadata": {
      "needs_background": "light"
     },
     "output_type": "display_data"
    },
    {
     "name": "stdout",
     "output_type": "stream",
     "text": [
      "Importing lightcurve and metadata for source  \u001b[1mZTF18abmdpwe\u001b[0m\n"
     ]
    },
    {
     "data": {
      "image/png": "[encoded data removed]",
      "text/plain": [
       "<Figure size 432x288 with 1 Axes>"
      ]
     },
     "metadata": {
      "needs_background": "light"
     },
     "output_type": "display_data"
    },
    {
     "name": "stdout",
     "output_type": "stream",
     "text": [
      "Importing lightcurve and metadata for source  \u001b[1mZTF18abqbuaj\u001b[0m\n"
     ]
    },
    {
     "data": {
      "image/png": "[encoded data removed]",
      "text/plain": [
       "<Figure size 432x288 with 1 Axes>"
      ]
     },
     "metadata": {
      "needs_background": "light"
     },
     "output_type": "display_data"
    },
    {
     "name": "stdout",
     "output_type": "stream",
     "text": [
      "Data Dimensions :  (10, 4)\n",
      "Features :  Index(['mjd_g', 'magpsf_g', 'mjd_r', 'magpsf_r'], dtype='object')\n"
     ]
    }
   ],
   "source": [
    "sources = list(alerce_found['oid'])\n",
    "\n",
    "for i in range(5):\n",
    "    data, metadata = alerce_retrieval(sources[i])\n",
    "    lightcurve_plot(data, sources[i])\n",
    "\n",
    "print('Data Dimensions : ', data.shape)\n",
    "print('Features : ', data.columns)"
   ]
  },
  {
   "cell_type": "markdown",
   "id": "413eada2",
   "metadata": {},
   "source": [
    "## Class Query\n",
    "\n",
    "For classification, we will need as large a dataset as possible. We can query ALeRCE to obtain the source IDs for a given class of transients. This output can then be used to pull whatever information we need (such as lightcurves). Below we perform a class query for SN Ia transients as an example.  "
   ]
  },
  {
   "cell_type": "code",
   "execution_count": 9,
   "id": "f0518cee",
   "metadata": {},
   "outputs": [
    {
     "name": "stdout",
     "output_type": "stream",
     "text": [
      "\u001b[1m Number of SNIa sources :  7999 \u001b[0m\n",
      "Importing lightcurve and metadata for source  \u001b[1mZTF18abklbam\u001b[0m\n"
     ]
    },
    {
     "data": {
      "image/png": "[encoded data removed]",
      "text/plain": [
       "<Figure size 432x288 with 1 Axes>"
      ]
     },
     "metadata": {
      "needs_background": "light"
     },
     "output_type": "display_data"
    }
   ],
   "source": [
    "SNIa_oid = alerce_class_query(class_type='SNIa', num_detections=[10, 200], num_sources=10000)\n",
    "\n",
    "SNIa_test_lc, SNIa_metadata = alerce_retrieval('ZTF18abklbam')\n",
    "\n",
    "lightcurve_plot(SNIa_test_lc, 'ZTF18abklbam')"
   ]
  },
  {
   "cell_type": "code",
   "execution_count": 10,
   "id": "5f099a56",
   "metadata": {},
   "outputs": [],
   "source": [
    "classes_alerce = ['SNIa', 'SNIbc', 'SNII']"
   ]
  },
  {
   "cell_type": "code",
   "execution_count": 11,
   "id": "ed369ca1",
   "metadata": {
    "scrolled": false
   },
   "outputs": [
    {
     "name": "stdout",
     "output_type": "stream",
     "text": [
      "\u001b[1m Number of SNIa sources :  7999 \u001b[0m\n",
      "Importing lightcurve and metadata for source  \u001b[1mZTF21abnvsic\u001b[0m\n",
      "Querying TNS for ZTF21abnvsic name and class verification...\n",
      "Empty DataFrame\n",
      "Columns: [objid, name_prefix, name, ra, declination, redshift, typeid, type, reporting_groupid, reporting_group, source_groupid, source_group, discoverydate, discoverymag, discmagfilter, filter, reporters, time_received, internal_names, creationdate, lastmodified]\n",
      "Index: []\n",
      "\n",
      "[0 rows x 21 columns]\n",
      "TNS Class :  Series([], Name: type, dtype: object)\n",
      "Importing lightcurve and metadata for source  \u001b[1mZTF21aavqphe\u001b[0m\n",
      "Querying TNS for ZTF21aavqphe name and class verification...\n",
      "Empty DataFrame\n",
      "Columns: [objid, name_prefix, name, ra, declination, redshift, typeid, type, reporting_groupid, reporting_group, source_groupid, source_group, discoverydate, discoverymag, discmagfilter, filter, reporters, time_received, internal_names, creationdate, lastmodified]\n",
      "Index: []\n",
      "\n",
      "[0 rows x 21 columns]\n",
      "TNS Class :  Series([], Name: type, dtype: object)\n",
      "Importing lightcurve and metadata for source  \u001b[1mZTF21abfnfdw\u001b[0m\n",
      "Querying TNS for ZTF21abfnfdw name and class verification...\n",
      "Empty DataFrame\n",
      "Columns: [objid, name_prefix, name, ra, declination, redshift, typeid, type, reporting_groupid, reporting_group, source_groupid, source_group, discoverydate, discoverymag, discmagfilter, filter, reporters, time_received, internal_names, creationdate, lastmodified]\n",
      "Index: []\n",
      "\n",
      "[0 rows x 21 columns]\n",
      "TNS Class :  Series([], Name: type, dtype: object)\n",
      "Importing lightcurve and metadata for source  \u001b[1mZTF21abzcplo\u001b[0m\n",
      "Querying TNS for ZTF21abzcplo name and class verification...\n",
      "Empty DataFrame\n",
      "Columns: [objid, name_prefix, name, ra, declination, redshift, typeid, type, reporting_groupid, reporting_group, source_groupid, source_group, discoverydate, discoverymag, discmagfilter, filter, reporters, time_received, internal_names, creationdate, lastmodified]\n",
      "Index: []\n",
      "\n",
      "[0 rows x 21 columns]\n",
      "TNS Class :  Series([], Name: type, dtype: object)\n",
      "Importing lightcurve and metadata for source  \u001b[1mZTF21acernhn\u001b[0m\n",
      "Querying TNS for ZTF21acernhn name and class verification...\n",
      "Empty DataFrame\n",
      "Columns: [objid, name_prefix, name, ra, declination, redshift, typeid, type, reporting_groupid, reporting_group, source_groupid, source_group, discoverydate, discoverymag, discmagfilter, filter, reporters, time_received, internal_names, creationdate, lastmodified]\n",
      "Index: []\n",
      "\n",
      "[0 rows x 21 columns]\n",
      "TNS Class :  Series([], Name: type, dtype: object)\n",
      "\u001b[1m Number of SNIbc sources :  3193 \u001b[0m\n",
      "Importing lightcurve and metadata for source  \u001b[1mZTF21acehnkp\u001b[0m\n",
      "Querying TNS for ZTF21acehnkp name and class verification...\n",
      "      objid name_prefix     name          ra  declination  redshift  typeid  \\\n",
      "2382  93084          AT  2021zwn  333.649745    38.392998       NaN     NaN   \n",
      "\n",
      "     type  reporting_groupid reporting_group  ...  source_group  \\\n",
      "2382  NaN              115.0         ANTARES  ...           ZTF   \n",
      "\n",
      "                discoverydate discoverymag  discmagfilter  filter  \\\n",
      "2382  2021-09-28 05:51:02.592      20.1879          111.0       r   \n",
      "\n",
      "                                              reporters        time_received  \\\n",
      "2382  Patrick Aleo (UIUC), Chien-Hsiu Lee (NSF's NOI...  2021-09-28 19:37:05   \n",
      "\n",
      "     internal_names         creationdate         lastmodified  \n",
      "2382   ZTF21acehnkp  2021-09-28 19:37:06  2021-09-28 19:37:06  \n",
      "\n",
      "[1 rows x 21 columns]\n",
      "TNS Class :  2382    NaN\n",
      "Name: type, dtype: object\n",
      "Importing lightcurve and metadata for source  \u001b[1mZTF21abtwvyl\u001b[0m\n",
      "Querying TNS for ZTF21abtwvyl name and class verification...\n",
      "Empty DataFrame\n",
      "Columns: [objid, name_prefix, name, ra, declination, redshift, typeid, type, reporting_groupid, reporting_group, source_groupid, source_group, discoverydate, discoverymag, discmagfilter, filter, reporters, time_received, internal_names, creationdate, lastmodified]\n",
      "Index: []\n",
      "\n",
      "[0 rows x 21 columns]\n",
      "TNS Class :  Series([], Name: type, dtype: object)\n",
      "Importing lightcurve and metadata for source  \u001b[1mZTF19aakkavn\u001b[0m\n",
      "Querying TNS for ZTF19aakkavn name and class verification...\n",
      "Empty DataFrame\n",
      "Columns: [objid, name_prefix, name, ra, declination, redshift, typeid, type, reporting_groupid, reporting_group, source_groupid, source_group, discoverydate, discoverymag, discmagfilter, filter, reporters, time_received, internal_names, creationdate, lastmodified]\n",
      "Index: []\n",
      "\n",
      "[0 rows x 21 columns]\n",
      "TNS Class :  Series([], Name: type, dtype: object)\n",
      "Importing lightcurve and metadata for source  \u001b[1mZTF21abtaxou\u001b[0m\n",
      "Querying TNS for ZTF21abtaxou name and class verification...\n",
      "Empty DataFrame\n",
      "Columns: [objid, name_prefix, name, ra, declination, redshift, typeid, type, reporting_groupid, reporting_group, source_groupid, source_group, discoverydate, discoverymag, discmagfilter, filter, reporters, time_received, internal_names, creationdate, lastmodified]\n",
      "Index: []\n",
      "\n",
      "[0 rows x 21 columns]\n",
      "TNS Class :  Series([], Name: type, dtype: object)\n",
      "Importing lightcurve and metadata for source  \u001b[1mZTF21abvbdyr\u001b[0m\n",
      "Querying TNS for ZTF21abvbdyr name and class verification...\n",
      "Empty DataFrame\n",
      "Columns: [objid, name_prefix, name, ra, declination, redshift, typeid, type, reporting_groupid, reporting_group, source_groupid, source_group, discoverydate, discoverymag, discmagfilter, filter, reporters, time_received, internal_names, creationdate, lastmodified]\n",
      "Index: []\n",
      "\n",
      "[0 rows x 21 columns]\n",
      "TNS Class :  Series([], Name: type, dtype: object)\n",
      "\u001b[1m Number of SNII sources :  2013 \u001b[0m\n",
      "Importing lightcurve and metadata for source  \u001b[1mZTF21abcmtev\u001b[0m\n",
      "Querying TNS for ZTF21abcmtev name and class verification...\n",
      "Empty DataFrame\n",
      "Columns: [objid, name_prefix, name, ra, declination, redshift, typeid, type, reporting_groupid, reporting_group, source_groupid, source_group, discoverydate, discoverymag, discmagfilter, filter, reporters, time_received, internal_names, creationdate, lastmodified]\n",
      "Index: []\n",
      "\n",
      "[0 rows x 21 columns]\n",
      "TNS Class :  Series([], Name: type, dtype: object)\n",
      "Importing lightcurve and metadata for source  \u001b[1mZTF21aahfsyj\u001b[0m\n",
      "Querying TNS for ZTF21aahfsyj name and class verification...\n",
      "Empty DataFrame\n",
      "Columns: [objid, name_prefix, name, ra, declination, redshift, typeid, type, reporting_groupid, reporting_group, source_groupid, source_group, discoverydate, discoverymag, discmagfilter, filter, reporters, time_received, internal_names, creationdate, lastmodified]\n",
      "Index: []\n",
      "\n",
      "[0 rows x 21 columns]\n",
      "TNS Class :  Series([], Name: type, dtype: object)\n",
      "Importing lightcurve and metadata for source  \u001b[1mZTF20aakkvxp\u001b[0m\n",
      "Querying TNS for ZTF20aakkvxp name and class verification...\n",
      "Empty DataFrame\n",
      "Columns: [objid, name_prefix, name, ra, declination, redshift, typeid, type, reporting_groupid, reporting_group, source_groupid, source_group, discoverydate, discoverymag, discmagfilter, filter, reporters, time_received, internal_names, creationdate, lastmodified]\n",
      "Index: []\n",
      "\n",
      "[0 rows x 21 columns]\n",
      "TNS Class :  Series([], Name: type, dtype: object)\n",
      "Importing lightcurve and metadata for source  \u001b[1mZTF20aakzrfu\u001b[0m\n",
      "Querying TNS for ZTF20aakzrfu name and class verification...\n",
      "Empty DataFrame\n",
      "Columns: [objid, name_prefix, name, ra, declination, redshift, typeid, type, reporting_groupid, reporting_group, source_groupid, source_group, discoverydate, discoverymag, discmagfilter, filter, reporters, time_received, internal_names, creationdate, lastmodified]\n",
      "Index: []\n",
      "\n",
      "[0 rows x 21 columns]\n",
      "TNS Class :  Series([], Name: type, dtype: object)\n",
      "Importing lightcurve and metadata for source  \u001b[1mZTF21acaggsw\u001b[0m\n",
      "Querying TNS for ZTF21acaggsw name and class verification...\n",
      "      objid name_prefix     name          ra  declination  redshift  typeid  \\\n",
      "3534  92039          AT  2021yjz  138.684214    24.754535       NaN     NaN   \n",
      "\n",
      "     type  reporting_groupid reporting_group  ...  source_group  \\\n",
      "3534  NaN               74.0          ALeRCE  ...           ZTF   \n",
      "\n",
      "                discoverydate discoverymag  discmagfilter  filter  \\\n",
      "3534  2021-09-09 12:18:17.004      19.3526          111.0       r   \n",
      "\n",
      "                                              reporters        time_received  \\\n",
      "3534  A. Munoz-Arancibia, F. Forster, F.E. Bauer, G....  2021-09-09 20:32:17   \n",
      "\n",
      "     internal_names         creationdate         lastmodified  \n",
      "3534   ZTF21acaggsw  2021-09-09 20:32:21  2021-09-09 20:32:21  \n",
      "\n",
      "[1 rows x 21 columns]\n",
      "TNS Class :  3534    NaN\n",
      "Name: type, dtype: object\n"
     ]
    }
   ],
   "source": [
    "dataset, mjd, labels = dataset_gen(classes_alerce)"
   ]
  },
  {
   "cell_type": "markdown",
   "id": "4d4ee4d3",
   "metadata": {},
   "source": [
    "#### Previous Problems\n",
    "1. We encounter objects with labels null in TNS, corresponding to objects that do not have a class. These would probably have to be sorted out. We can use them as a test set if we want, to see what we predict for these objects.\n",
    "2. After a few iterations, we do not get any output from TNS, we need to figure out how to solve this problem and still generate the dataset. \n",
    "\n",
    "#### Current Problems\n",
    "1. We cannot generate a complete dataset without interpolating the lightcurves so that they have same dimensions. How do we wish to do this?\n",
    "2. We need to define the project scope clearly. Should we focus on a classifier (RNN / CNN) solely, or should we work on building a dataset of high quality, that could possibly be used by David in his thesis afterwards. This would involve looking at VAE and CVAE to generate an exhaustive dataset that could then at another time be fed to a classifier for classification."
   ]
  },
  {
   "cell_type": "code",
   "execution_count": 12,
   "id": "237f8db1",
   "metadata": {},
   "outputs": [],
   "source": [
    "def filtering(dataset, mjd, labels):\n",
    "    \n",
    "    idx = np.array([])\n",
    "    \n",
    "    # Removing sources that do not have a class in TNS\n",
    "    for i in range(labels.shape[0]):\n",
    "        if labels.iloc[i, 'Class'] == None:\n",
    "            idx = np.append(idx, i)\n",
    "    \n",
    "    dataset.drop(labels=idx, axis=0)\n",
    "    mjd.drop(labels=idx, axis=0)\n",
    "    labels.drop(labels=idx, axis=0)\n",
    "    \n",
    "    return dataset, mjd, labels\n",
    "\n",
    "def label_encoding(labels):\n",
    "    \n",
    "    num_classes = labels.shape[1]\n",
    "    labels_encoded = np.zeros(labels.shape)\n",
    "    \n",
    "    return labels_encoded\n",
    "\n",
    "def interpolate(lightcurve):\n",
    "    \n",
    "    return lightcurve"
   ]
  },
  {
   "cell_type": "markdown",
   "id": "b49acb90",
   "metadata": {},
   "source": [
    "#### Modelling Considerations\n",
    "1. RNN : must be bi-directional as temporal dependence between points before and after the point considered\n",
    "2. RNN : we can feed it the filter-ID as an additonal parameter, which we can't really do for CNN\n",
    "3. CNN : we have a problem with giving it the filter-ID. Maybe use a FFNN to combine information about filter ID and output of CNN in a combined model, but this may not be efficient. Another alternative is to train a model that has to CNN's, one for each filter ID and then combine the information for a final prediction. The only problem we might encounter is that of ties, so not optimal either. \n",
    "4. TRADE-OFF : In the RNN, we can provide the algorithm with filter ID information. This we cannot do for the CNN. On the other hand, the CNN can look at the two time series at the same time, and relate them. There is thus a trade-off between filter ID information and comparison of both band lightcurves. \n",
    "5. BNN : Does not overfit much even on small datasets. May be of interest."
   ]
  },
  {
   "cell_type": "code",
   "execution_count": 1,
   "id": "8f6dc4d2",
   "metadata": {},
   "outputs": [],
   "source": [
    "def TNS_get_class(object_id, TNS_objects):\n",
    "    \n",
    "    print('Querying TNS for', object_id,'name and class verification...') \n",
    "    \n",
    "    TNS_ZTFobjects = TNS_objects['internal_names']\n",
    "    TNS_objects = TNS_objects.loc[TNS_ZTFobjects == object_id]\n",
    "    \n",
    "    TNS_class = TNS_objects['type']\n",
    "    TNS_class_id = TNS_objects['typeid']\n",
    "    \n",
    "    print('TNS Class : ', TNS_class)\n",
    "        \n",
    "    return TNS_class, TNS_class_id, TNS_objects, TNS_ZTFobjects"
   ]
  },
  {
   "cell_type": "code",
   "execution_count": 19,
   "id": "521b15a9",
   "metadata": {},
   "outputs": [],
   "source": [
    "TNS_objects = pd.read_csv('tns_public_objects.csv', skiprows=1)\n",
    "object_id = 'ZTF21abgyxuo'"
   ]
  },
  {
   "cell_type": "code",
   "execution_count": 20,
   "id": "8ee0f392",
   "metadata": {},
   "outputs": [
    {
     "data": {
      "text/plain": [
       "'ATLAS21rpd, ZTF21abgyxuo'"
      ]
     },
     "execution_count": 20,
     "metadata": {},
     "output_type": "execute_result"
    }
   ],
   "source": [
    "TNS_objects['internal_names'][10000]"
   ]
  },
  {
   "cell_type": "code",
   "execution_count": 37,
   "id": "43c89e76",
   "metadata": {},
   "outputs": [
    {
     "name": "stdout",
     "output_type": "stream",
     "text": [
      "0\n"
     ]
    },
    {
     "ename": "TypeError",
     "evalue": "ufunc 'isnan' not supported for the input types, and the inputs could not be safely coerced to any supported types according to the casting rule ''safe''",
     "output_type": "error",
     "traceback": [
      "\u001b[0;31m---------------------------------------------------------------------------\u001b[0m",
      "\u001b[0;31mTypeError\u001b[0m                                 Traceback (most recent call last)",
      "\u001b[0;32m/var/folders/j0/m3t4l9gx39l1t4djrcsyb3h80000gn/T/ipykernel_767/831924122.py\u001b[0m in \u001b[0;36m<module>\u001b[0;34m\u001b[0m\n\u001b[1;32m      1\u001b[0m \u001b[0;32mfor\u001b[0m \u001b[0mi\u001b[0m \u001b[0;32min\u001b[0m \u001b[0mrange\u001b[0m\u001b[0;34m(\u001b[0m\u001b[0mlen\u001b[0m\u001b[0;34m(\u001b[0m\u001b[0mTNS_objects\u001b[0m\u001b[0;34m[\u001b[0m\u001b[0;34m'internal_names'\u001b[0m\u001b[0;34m]\u001b[0m\u001b[0;34m)\u001b[0m\u001b[0;34m)\u001b[0m\u001b[0;34m:\u001b[0m\u001b[0;34m\u001b[0m\u001b[0;34m\u001b[0m\u001b[0m\n\u001b[1;32m      2\u001b[0m     \u001b[0mprint\u001b[0m\u001b[0;34m(\u001b[0m\u001b[0mi\u001b[0m\u001b[0;34m)\u001b[0m\u001b[0;34m\u001b[0m\u001b[0;34m\u001b[0m\u001b[0m\n\u001b[0;32m----> 3\u001b[0;31m     \u001b[0;32mif\u001b[0m \u001b[0mnp\u001b[0m\u001b[0;34m.\u001b[0m\u001b[0misnan\u001b[0m\u001b[0;34m(\u001b[0m\u001b[0mTNS_objects\u001b[0m\u001b[0;34m[\u001b[0m\u001b[0;34m'internal_names'\u001b[0m\u001b[0;34m]\u001b[0m\u001b[0;34m[\u001b[0m\u001b[0mi\u001b[0m\u001b[0;34m]\u001b[0m\u001b[0;34m)\u001b[0m \u001b[0;34m==\u001b[0m \u001b[0;32mTrue\u001b[0m\u001b[0;34m:\u001b[0m\u001b[0;34m\u001b[0m\u001b[0;34m\u001b[0m\u001b[0m\n\u001b[0m\u001b[1;32m      4\u001b[0m         \u001b[0;32mcontinue\u001b[0m\u001b[0;34m\u001b[0m\u001b[0;34m\u001b[0m\u001b[0m\n\u001b[1;32m      5\u001b[0m     \u001b[0;32melse\u001b[0m\u001b[0;34m:\u001b[0m\u001b[0;34m\u001b[0m\u001b[0;34m\u001b[0m\u001b[0m\n",
      "\u001b[0;31mTypeError\u001b[0m: ufunc 'isnan' not supported for the input types, and the inputs could not be safely coerced to any supported types according to the casting rule ''safe''"
     ]
    }
   ],
   "source": [
    "for i in range(len(TNS_objects['internal_names'])):\n",
    "    print(i)\n",
    "    if np.isnan(TNS_objects['internal_names'][i]) == True:\n",
    "        continue\n",
    "    else:\n",
    "        if object_id in TNS_objects['internal_names'][i]:\n",
    "            print(i)"
   ]
  },
  {
   "cell_type": "code",
   "execution_count": 38,
   "id": "4b926e10",
   "metadata": {},
   "outputs": [
    {
     "ename": "TypeError",
     "evalue": "ufunc 'isnan' not supported for the input types, and the inputs could not be safely coerced to any supported types according to the casting rule ''safe''",
     "output_type": "error",
     "traceback": [
      "\u001b[0;31m---------------------------------------------------------------------------\u001b[0m",
      "\u001b[0;31mTypeError\u001b[0m                                 Traceback (most recent call last)",
      "\u001b[0;32m/var/folders/j0/m3t4l9gx39l1t4djrcsyb3h80000gn/T/ipykernel_767/3454585394.py\u001b[0m in \u001b[0;36m<module>\u001b[0;34m\u001b[0m\n\u001b[0;32m----> 1\u001b[0;31m \u001b[0mnp\u001b[0m\u001b[0;34m.\u001b[0m\u001b[0misnan\u001b[0m\u001b[0;34m(\u001b[0m\u001b[0mTNS_objects\u001b[0m\u001b[0;34m[\u001b[0m\u001b[0;34m'internal_names'\u001b[0m\u001b[0;34m]\u001b[0m\u001b[0;34m[\u001b[0m\u001b[0;36m0\u001b[0m\u001b[0;34m]\u001b[0m\u001b[0;34m)\u001b[0m\u001b[0;34m\u001b[0m\u001b[0;34m\u001b[0m\u001b[0m\n\u001b[0m",
      "\u001b[0;31mTypeError\u001b[0m: ufunc 'isnan' not supported for the input types, and the inputs could not be safely coerced to any supported types according to the casting rule ''safe''"
     ]
    }
   ],
   "source": [
    "np.isnan(TNS_objects['internal_names'][0])"
   ]
  },
  {
   "cell_type": "code",
   "execution_count": null,
   "id": "71f8cae8",
   "metadata": {},
   "outputs": [],
   "source": []
  }
 ],
 "metadata": {
  "kernelspec": {
   "display_name": "Python 3 (ipykernel)",
   "language": "python",
   "name": "python3"
  },
  "language_info": {
   "codemirror_mode": {
    "name": "ipython",
    "version": 3
   },
   "file_extension": ".py",
   "mimetype": "text/x-python",
   "name": "python",
   "nbconvert_exporter": "python",
   "pygments_lexer": "ipython3",
   "version": "3.8.2"
  }
 },
 "nbformat": 4,
 "nbformat_minor": 5
}
